{
 "cells": [
  {
   "cell_type": "markdown",
   "metadata": {},
   "source": [
    "# Exchange Simulation and Agent-Based Modeling (ABM)\n",
    "## Price-Time Priority Matching Engine + Multi-Agent Simulation\n",
    "\n",
    "This notebook demonstrates:\n",
    "- Exchange-level order matching with price-time priority\n",
    "- Queue position tracking\n",
    "- Agent-based modeling with:\n",
    "  - Informed traders (trade based on true value)\n",
    "  - Noise traders (random trading)\n",
    "  - Market makers (inventory management)\n",
    "- Order book dynamics visualization\n",
    "- Market microstructure patterns"
   ]
  },
  {
   "cell_type": "code",
   "execution_count": null,
   "metadata": {},
   "outputs": [],
   "source": [
    "import sys\n",
    "sys.path.append('..')\n",
    "\n",
    "import pandas as pd\n",
    "import numpy as np\n",
    "import matplotlib.pyplot as plt\n",
    "import seaborn as sns\n",
    "from IPython.display import clear_output\n",
    "import time\n",
    "\n",
    "from src.config import *\n",
    "from src.four_exchange_simulator import MatchingEngine, ABMSimulator\n",
    "from utils.simulation_utils import Order, OrderSide, OrderType, generate_order_id\n",
    "from utils.plotting_utils import plot_orderbook_snapshot\n",
    "from utils.io_utils import write_parquet\n",
    "\n",
    "%matplotlib inline\n",
    "plt.style.use('seaborn-v0_8-darkgrid')"
   ]
  },
  {
   "cell_type": "markdown",
   "metadata": {},
   "source": [
    "## 1. Initialize Matching Engine"
   ]
  },
  {
   "cell_type": "code",
   "execution_count": null,
   "metadata": {},
   "outputs": [],
   "source": [
    "# Create matching engine\n",
    "engine = MatchingEngine(\n",
    "    instrument_id=\"SIM_ASSET\",\n",
    "    tick_size=0.01,\n",
    "    lot_size=1.0,\n",
    "    enable_self_trade_prevention=True\n",
    ")\n",
    "\n",
    "print(f\"Matching engine initialized for {engine.instrument_id}\")\n",
    "print(f\"Tick size: {engine.tick_size}\")\n",
    "print(f\"Lot size: {engine.lot_size}\")"
   ]
  },
  {
   "cell_type": "markdown",
   "metadata": {},
   "source": [
    "## 2. Manual Order Submission Test\n",
    "### Test basic order matching mechanics"
   ]
  },
  {
   "cell_type": "code",
   "execution_count": null,
   "metadata": {},
   "outputs": [],
   "source": [
    "# Submit limit buy order\n",
    "buy_order = Order(\n",
    "    order_id=generate_order_id(\"TEST\"),\n",
    "    instrument_id=\"SIM_ASSET\",\n",
    "    side=OrderSide.BUY,\n",
    "    order_type=OrderType.LIMIT,\n",
    "    price=99.99,\n",
    "    quantity=100,\n",
    "    timestamp=pd.Timestamp.now(),\n",
    "    trader_id=\"MANUAL_1\"\n",
    ")\n",
    "\n",
    "fills = engine.match_order(buy_order)\n",
    "print(f\"Buy order submitted: {buy_order.order_id}\")\n",
    "print(f\"Fills: {len(fills)}\")\n",
    "print(f\"Best bid: {engine.get_best_bid()}\")"
   ]
  },
  {
   "cell_type": "code",
   "execution_count": null,
   "metadata": {},
   "outputs": [],
   "source": [
    "# Submit limit sell order\n",
    "sell_order = Order(\n",
    "    order_id=generate_order_id(\"TEST\"),\n",
    "    instrument_id=\"SIM_ASSET\",\n",
    "    side=OrderSide.SELL,\n",
    "    order_type=OrderType.LIMIT,\n",
    "    price=100.01,\n",
    "    quantity=100,\n",
    "    timestamp=pd.Timestamp.now(),\n",
    "    trader_id=\"MANUAL_2\"\n",
    ")\n",
    "\n",
    "fills = engine.match_order(sell_order)\n",
    "print(f\"Sell order submitted: {sell_order.order_id}\")\n",
    "print(f\"Fills: {len(fills)}\")\n",
    "print(f\"Best ask: {engine.get_best_ask()}\")\n",
    "print(f\"Mid price: {engine.get_mid_price()}\")"
   ]
  },
  {
   "cell_type": "code",
   "execution_count": null,
   "metadata": {},
   "outputs": [],
   "source": [
    "# Test matching: aggressive buy order\n",
    "aggressive_buy = Order(\n",
    "    order_id=generate_order_id(\"TEST\"),\n",
    "    instrument_id=\"SIM_ASSET\",\n",
    "    side=OrderSide.BUY,\n",
    "    order_type=OrderType.LIMIT,\n",
    "    price=100.01,  # Crosses spread\n",
    "    quantity=50,\n",
    "    timestamp=pd.Timestamp.now(),\n",
    "    trader_id=\"MANUAL_3\"\n",
    ")\n",
    "\n",
    "fills = engine.match_order(aggressive_buy)\n",
    "print(f\"Aggressive buy submitted\")\n",
    "print(f\"Number of fills: {len(fills)}\")\n",
    "if fills:\n",
    "    print(f\"Fill price: {fills[0].price}, quantity: {fills[0].quantity}\")\n",
    "print(f\"Total trades executed: {engine.total_trades}\")\n",
    "print(f\"Total volume: {engine.total_volume}\")"
   ]
  },
  {
   "cell_type": "markdown",
   "metadata": {},
   "source": [
    "## 3. Visualize Current Order Book State"
   ]
  },
  {
   "cell_type": "code",
   "execution_count": null,
   "metadata": {},
   "outputs": [],
   "source": [
    "# Get order book snapshot\n",
    "snapshot = engine.get_order_book_snapshot(n_levels=10)\n",
    "\n",
    "# Extract bid/ask data\n",
    "bid_prices = [snapshot.get(f'bid_px_{i}', 0) for i in range(1, 11)]\n",
    "bid_sizes = [snapshot.get(f'bid_sz_{i}', 0) for i in range(1, 11)]\n",
    "ask_prices = [snapshot.get(f'ask_px_{i}', 0) for i in range(1, 11)]\n",
    "ask_sizes = [snapshot.get(f'ask_sz_{i}', 0) for i in range(1, 11)]\n",
    "\n",
    "# Filter out zeros\n",
    "bid_prices = [p for p in bid_prices if p > 0]\n",
    "bid_sizes = bid_sizes[:len(bid_prices)]\n",
    "ask_prices = [p for p in ask_prices if p > 0]\n",
    "ask_sizes = ask_sizes[:len(ask_prices)]\n",
    "\n",
    "if bid_prices and ask_prices:\n",
    "    fig = plot_orderbook_snapshot(\n",
    "        np.array(bid_prices),\n",
    "        np.array(bid_sizes),\n",
    "        np.array(ask_prices),\n",
    "        np.array(ask_sizes),\n",
    "        title=\"Current Order Book State\"\n",
    "    )\n",
    "    plt.show()\n",
    "else:\n",
    "    print(\"Order book is empty or incomplete\")"
   ]
  },
  {
   "cell_type": "markdown",
   "metadata": {},
   "source": [
    "## 4. Agent-Based Modeling Simulation\n",
    "### Initialize ABM with multiple trader types"
   ]
  },
  {
   "cell_type": "code",
   "execution_count": null,
   "metadata": {},
   "outputs": [],
   "source": [
    "# Create fresh matching engine for ABM\n",
    "engine_abm = MatchingEngine(\n",
    "    instrument_id=\"SIM_ASSET\",\n",
    "    tick_size=0.01,\n",
    "    lot_size=1.0\n",
    ")\n",
    "\n",
    "# Initialize ABM simulator\n",
    "abm = ABMSimulator(\n",
    "    matching_engine=engine_abm,\n",
    "    n_informed=5,      # 5 informed traders\n",
    "    n_noise=20,        # 20 noise traders\n",
    "    n_mm=3             # 3 market makers\n",
    ")\n",
    "\n",
    "print(f\"ABM initialized with:\")\n",
    "print(f\"  - {abm.n_informed} informed traders\")\n",
    "print(f\"  - {abm.n_noise} noise traders\")\n",
    "print(f\"  - {abm.n_mm} market makers\")\n",
    "print(f\"\\nTrue value (known to informed traders): {abm.true_value:.2f}\")"
   ]
  },
  {
   "cell_type": "markdown",
   "metadata": {},
   "source": [
    "## 5. Run Short Simulation"
   ]
  },
  {
   "cell_type": "code",
   "execution_count": null,
   "metadata": {},
   "outputs": [],
   "source": [
    "# Run simulation for 30 seconds\n",
    "print(\"Running ABM simulation...\")\n",
    "df_sim = abm.run_simulation(\n",
    "    duration_seconds=30,\n",
    "    time_step_ms=100\n",
    ")\n",
    "\n",
    "print(f\"\\nSimulation complete!\")\n",
    "print(f\"Generated {len(df_sim)} order book snapshots\")\n",
    "print(f\"Total trades executed: {engine_abm.total_trades}\")\n",
    "print(f\"Total volume traded: {engine_abm.total_volume:.0f}\")\n",
    "print(f\"\\nFinal mid price: {df_sim['mid_price'].iloc[-1]:.4f}\")\n",
    "print(f\"Price range: [{df_sim['mid_price'].min():.4f}, {df_sim['mid_price'].max():.4f}]\")"
   ]
  },
  {
   "cell_type": "markdown",
   "metadata": {},
   "source": [
    "## 6. Analyze Simulation Results"
   ]
  },
  {
   "cell_type": "code",
   "execution_count": null,
   "metadata": {},
   "outputs": [],
   "source": [
    "# Price evolution\n",
    "fig, axes = plt.subplots(3, 1, figsize=(14, 10))\n",
    "\n",
    "# Mid price\n",
    "axes[0].plot(df_sim['timestamp'], df_sim['mid_price'], linewidth=1, label='Mid Price')\n",
    "axes[0].axhline(abm.true_value, color='red', linestyle='--', label='True Value', alpha=0.7)\n",
    "axes[0].set_ylabel('Price')\n",
    "axes[0].set_title('Mid Price Evolution')\n",
    "axes[0].legend()\n",
    "axes[0].grid(True, alpha=0.3)\n",
    "\n",
    "# Spread\n",
    "df_sim['spread'] = df_sim['ask_px_1'] - df_sim['bid_px_1']\n",
    "axes[1].plot(df_sim['timestamp'], df_sim['spread'], linewidth=1, color='orange')\n",
    "axes[1].set_ylabel('Spread')\n",
    "axes[1].set_title('Bid-Ask Spread')\n",
    "axes[1].grid(True, alpha=0.3)\n",
    "\n",
    "# Depth\n",
    "axes[2].plot(df_sim['timestamp'], df_sim['bid_sz_1'], label='Bid Size', alpha=0.7)\n",
    "axes[2].plot(df_sim['timestamp'], df_sim['ask_sz_1'], label='Ask Size', alpha=0.7)\n",
    "axes[2].set_ylabel('Size')\n",
    "axes[2].set_xlabel('Time')\n",
    "axes[2].set_title('Top of Book Liquidity')\n",
    "axes[2].legend()\n",
    "axes[2].grid(True, alpha=0.3)\n",
    "\n",
    "plt.tight_layout()\n",
    "plt.show()"
   ]
  },
  {
   "cell_type": "markdown",
   "metadata": {},
   "source": [
    "## 7. Market Maker Inventory Evolution"
   ]
  },
  {
   "cell_type": "code",
   "execution_count": null,
   "metadata": {},
   "outputs": [],
   "source": [
    "# Plot market maker inventories\n",
    "mm_inventories = abm.mm_inventories\n",
    "\n",
    "plt.figure(figsize=(10, 6))\n",
    "mm_ids = list(mm_inventories.keys())\n",
    "mm_values = list(mm_inventories.values())\n",
    "\n",
    "plt.bar(mm_ids, mm_values, color='steelblue', alpha=0.7)\n",
    "plt.axhline(0, color='black', linestyle='-', linewidth=0.8)\n",
    "plt.ylabel('Inventory Position')\n",
    "plt.xlabel('Market Maker ID')\n",
    "plt.title('Final Market Maker Inventory Positions')\n",
    "plt.grid(True, alpha=0.3, axis='y')\n",
    "plt.xticks(rotation=45)\n",
    "plt.tight_layout()\n",
    "plt.show()\n",
    "\n",
    "print(\"Market Maker Inventories:\")\n",
    "for mm_id, inventory in mm_inventories.items():\n",
    "    print(f\"  {mm_id}: {inventory:.0f} shares\")"
   ]
  },
  {
   "cell_type": "markdown",
   "metadata": {},
   "source": [
    "## 8. Price Discovery Analysis"
   ]
  },
  {
   "cell_type": "code",
   "execution_count": null,
   "metadata": {},
   "outputs": [],
   "source": [
    "# Analyze how price converges to true value\n",
    "df_sim['price_error'] = df_sim['mid_price'] - abm.true_value\n",
    "df_sim['abs_price_error'] = df_sim['price_error'].abs()\n",
    "\n",
    "fig, (ax1, ax2) = plt.subplots(1, 2, figsize=(14, 5))\n",
    "\n",
    "# Price error over time\n",
    "ax1.plot(df_sim['timestamp'], df_sim['price_error'], linewidth=1)\n",
    "ax1.axhline(0, color='red', linestyle='--', alpha=0.5)\n",
    "ax1.set_xlabel('Time')\n",
    "ax1.set_ylabel('Price Error (Mid - True Value)')\n",
    "ax1.set_title('Price Discovery: Error Over Time')\n",
    "ax1.grid(True, alpha=0.3)\n",
    "\n",
    "# Rolling absolute error\n",
    "ax2.plot(df_sim['timestamp'], df_sim['abs_price_error'].rolling(10).mean(), linewidth=2)\n",
    "ax2.set_xlabel('Time')\n",
    "ax2.set_ylabel('Absolute Price Error (10-period MA)')\n",
    "ax2.set_title('Price Discovery: Convergence')\n",
    "ax2.grid(True, alpha=0.3)\n",
    "\n",
    "plt.tight_layout()\n",
    "plt.show()\n",
    "\n",
    "print(f\"Mean absolute price error: {df_sim['abs_price_error'].mean():.4f}\")\n",
    "print(f\"Final price error: {df_sim['price_error'].iloc[-1]:.4f}\")"
   ]
  },
  {
   "cell_type": "markdown",
   "metadata": {},
   "source": [
    "## 9. Trade Statistics"
   ]
  },
  {
   "cell_type": "code",
   "execution_count": null,
   "metadata": {},
   "outputs": [],
   "source": [
    "# Analyze fills\n",
    "fills = engine_abm.fills\n",
    "\n",
    "if len(fills) > 0:\n",
    "    fills_df = pd.DataFrame([{\n",
    "        'timestamp': f.timestamp,\n",
    "        'price': f.price,\n",
    "        'quantity': f.quantity,\n",
    "        'side': f.side.value\n",
    "    } for f in fills])\n",
    "    \n",
    "    print(\"Trade Statistics:\")\n",
    "    print(f\"Total trades: {len(fills_df)}\")\n",
    "    print(f\"Total volume: {fills_df['quantity'].sum():.0f}\")\n",
    "    print(f\"Average trade size: {fills_df['quantity'].mean():.1f}\")\n",
    "    print(f\"Price range: [{fills_df['price'].min():.4f}, {fills_df['price'].max():.4f}]\")\n",
    "    print(f\"\\nBuy trades: {(fills_df['side'] == 'B').sum()}\")\n",
    "    print(f\"Sell trades: {(fills_df['side'] == 'S').sum()}\")\n",
    "    \n",
    "    # Trade size distribution\n",
    "    plt.figure(figsize=(10, 5))\n",
    "    plt.hist(fills_df['quantity'], bins=30, alpha=0.7, edgecolor='black')\n",
    "    plt.xlabel('Trade Size')\n",
    "    plt.ylabel('Frequency')\n",
    "    plt.title('Trade Size Distribution')\n",
    "    plt.grid(True, alpha=0.3)\n",
    "    plt.show()\n",
    "else:\n",
    "    print(\"No trades executed during simulation\")"
   ]
  },
  {
   "cell_type": "markdown",
   "metadata": {},
   "source": [
    "## 10. Save Simulation Results"
   ]
  },
  {
   "cell_type": "code",
   "execution_count": null,
   "metadata": {},
   "outputs": [],
   "source": [
    "# Save simulation data\n",
    "output_file = SIMULATION_PATH / \"abm_simulation_notebook.parquet\"\n",
    "write_parquet(df_sim, output_file)\n",
    "print(f\"Simulation results saved to: {output_file}\")\n",
    "\n",
    "# Summary statistics\n",
    "summary = {\n",
    "    'duration_seconds': 30,\n",
    "    'n_snapshots': len(df_sim),\n",
    "    'n_trades': engine_abm.total_trades,\n",
    "    'total_volume': engine_abm.total_volume,\n",
    "    'initial_price': df_sim['mid_price'].iloc[0],\n",
    "    'final_price': df_sim['mid_price'].iloc[-1],\n",
    "    'true_value': abm.true_value,\n",
    "    'mean_spread': df_sim['spread'].mean(),\n",
    "    'price_volatility': df_sim['mid_price'].std()\n",
    "}\n",
    "\n",
    "print(\"\\nSimulation Summary:\")\n",
    "for key, value in summary.items():\n",
    "    if isinstance(value, float):\n",
    "        print(f\"  {key}: {value:.4f}\")\n",
    "    else:\n",
    "        print(f\"  {key}: {value}\")"
   ]
  },
  {
   "cell_type": "markdown",
   "metadata": {},
   "source": [
    "## 11. Conclusions\n",
    "\n",
    "Key observations from the ABM simulation:\n",
    "\n",
    "1. **Price Discovery**: The mid price converges toward the true value as informed traders exploit mispricings\n",
    "2. **Market Making**: Market makers provide liquidity and manage inventory risk\n",
    "3. **Spread Dynamics**: Spread widens during high volatility and tightens with market maker competition\n",
    "4. **Order Flow**: Diverse trader types create realistic order flow patterns\n",
    "5. **Matching Mechanics**: Price-time priority ensures fair order execution\n",
    "\n",
    "This simulation framework can be used to:\n",
    "- Test trading strategies in controlled environments\n",
    "- Validate model predictions against simulated markets\n",
    "- Understand market microstructure mechanics\n",
    "- Assess strategy robustness across different market conditions"
   ]
  }
 ],
 "metadata": {
  "kernelspec": {
   "display_name": "Python 3",
   "language": "python",
   "name": "python3"
  },
  "language_info": {
   "codemirror_mode": {
    "name": "ipython",
    "version": 3
   },
   "file_extension": ".py",
   "mimetype": "text/x-python",
   "name": "python",
   "nbconvert_exporter": "python",
   "pygments_lexer": "ipython3",
   "version": "3.9.0"
  }
 },
 "nbformat": 4,
 "nbformat_minor": 4
}
