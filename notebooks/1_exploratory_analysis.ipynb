{
 "cells": [
  {
   "cell_type": "markdown",
   "metadata": {},
   "source": [
    "# Exploratory Data Analysis\n",
    "## Market Microstructure Modeling Platform\n",
    "\n",
    "This notebook performs initial exploration of order book data:\n",
    "- Data distribution analysis\n",
    "- Order book snapshot visualization\n",
    "- Spread and liquidity analysis\n",
    "- Feature correlation analysis"
   ]
  },
  {
   "cell_type": "code",
   "execution_count": null,
   "metadata": {},
   "outputs": [],
   "source": [
    "import sys\n",
    "sys.path.append('..')\n",
    "\n",
    "import pandas as pd\n",
    "import numpy as np\n",
    "import matplotlib.pyplot as plt\n",
    "import seaborn as sns\n",
    "\n",
    "from src.config import *\n",
    "from utils.io_utils import read_parquet\n",
    "from utils.plotting_utils import plot_orderbook_snapshot, plot_spread_analysis\n",
    "\n",
    "%matplotlib inline\n",
    "plt.style.use('seaborn-v0_8-darkgrid')"
   ]
  },
  {
   "cell_type": "markdown",
   "metadata": {},
   "source": [
    "## 1. Load Preprocessed Data"
   ]
  },
  {
   "cell_type": "code",
   "execution_count": null,
   "metadata": {},
   "outputs": [],
   "source": [
    "# Load preprocessed order book data\n",
    "date = \"2025-09-15\"\n",
    "instrument_id = \"AAPL.P.XNAS\"\n",
    "\n",
    "file_path = INTERIM_DATA_PATH / f\"date={date}\" / f\"{instrument_id}.parquet\"\n",
    "\n",
    "if file_path.exists():\n",
    "    df = read_parquet(file_path)\n",
    "    print(f\"Loaded {len(df)} rows\")\n",
    "    print(f\"Time range: {df['ts_event'].min()} to {df['ts_event'].max()}\")\n",
    "else:\n",
    "    print(f\"Data file not found: {file_path}\")\n",
    "    print(\"Please run 0_data_preprocessing.py first\")"
   ]
  },
  {
   "cell_type": "markdown",
   "metadata": {},
   "source": [
    "## 2. Basic Statistics"
   ]
  },
  {
   "cell_type": "code",
   "execution_count": null,
   "metadata": {},
   "outputs": [],
   "source": [
    "if 'df' in locals():\n",
    "    print(\"Dataset shape:\", df.shape)\n",
    "    print(\"\\nBasic statistics:\")\n",
    "    print(df[['bid_px_1', 'ask_px_1', 'mid_px', 'spread_bps']].describe())"
   ]
  },
  {
   "cell_type": "markdown",
   "metadata": {},
   "source": [
    "## 3. Spread Analysis"
   ]
  },
  {
   "cell_type": "code",
   "execution_count": null,
   "metadata": {},
   "outputs": [],
   "source": [
    "if 'df' in locals():\n",
    "    fig = plot_spread_analysis(df, spread_col='spread_bps')\n",
    "    plt.show()"
   ]
  },
  {
   "cell_type": "markdown",
   "metadata": {},
   "source": [
    "## 4. Order Book Depth Visualization"
   ]
  },
  {
   "cell_type": "code",
   "execution_count": null,
   "metadata": {},
   "outputs": [],
   "source": [
    "if 'df' in locals():\n",
    "    # Plot order book snapshot at a random time\n",
    "    sample_idx = len(df) // 2\n",
    "    sample_row = df.iloc[sample_idx]\n",
    "    \n",
    "    bid_prices = [sample_row[f'bid_px_{i}'] for i in range(1, 11)]\n",
    "    bid_sizes = [sample_row[f'bid_sz_{i}'] for i in range(1, 11)]\n",
    "    ask_prices = [sample_row[f'ask_px_{i}'] for i in range(1, 11)]\n",
    "    ask_sizes = [sample_row[f'ask_sz_{i}'] for i in range(1, 11)]\n",
    "    \n",
    "    fig = plot_orderbook_snapshot(\n",
    "        np.array(bid_prices),\n",
    "        np.array(bid_sizes),\n",
    "        np.array(ask_prices),\n",
    "        np.array(ask_sizes),\n",
    "        title=f\"Order Book Snapshot at {sample_row['ts_event']}\"\n",
    "    )\n",
    "    plt.show()"
   ]
  },
  {
   "cell_type": "markdown",
   "metadata": {},
   "source": [
    "## 5. Price and Volume Time Series"
   ]
  },
  {
   "cell_type": "code",
   "execution_count": null,
   "metadata": {},
   "outputs": [],
   "source": [
    "if 'df' in locals():\n",
    "    fig, (ax1, ax2) = plt.subplots(2, 1, figsize=(14, 8))\n",
    "    \n",
    "    # Mid price\n",
    "    ax1.plot(df['ts_event'], df['mid_px'], linewidth=0.5)\n",
    "    ax1.set_ylabel('Mid Price')\n",
    "    ax1.set_title('Mid Price Evolution')\n",
    "    ax1.grid(True, alpha=0.3)\n",
    "    \n",
    "    # Total depth\n",
    "    df['total_bid_volume'] = df[[f'bid_sz_{i}' for i in range(1, 11)]].sum(axis=1)\n",
    "    df['total_ask_volume'] = df[[f'ask_sz_{i}' for i in range(1, 11)]].sum(axis=1)\n",
    "    \n",
    "    ax2.plot(df['ts_event'], df['total_bid_volume'], label='Bid Volume', alpha=0.7)\n",
    "    ax2.plot(df['ts_event'], df['total_ask_volume'], label='Ask Volume', alpha=0.7)\n",
    "    ax2.set_ylabel('Volume')\n",
    "    ax2.set_xlabel('Time')\n",
    "    ax2.set_title('Order Book Depth')\n",
    "    ax2.legend()\n",
    "    ax2.grid(True, alpha=0.3)\n",
    "    \n",
    "    plt.tight_layout()\n",
    "    plt.show()"
   ]
  },
  {
   "cell_type": "markdown",
   "metadata": {},
   "source": [
    "## 6. Correlation Analysis"
   ]
  },
  {
   "cell_type": "code",
   "execution_count": null,
   "metadata": {},
   "outputs": [],
   "source": [
    "if 'df' in locals():\n",
    "    # Calculate correlations for key features\n",
    "    features = ['bid_px_1', 'ask_px_1', 'mid_px', 'spread_bps', \n",
    "                'bid_sz_1', 'ask_sz_1', 'total_bid_volume', 'total_ask_volume']\n",
    "    \n",
    "    corr_matrix = df[features].corr()\n",
    "    \n",
    "    plt.figure(figsize=(10, 8))\n",
    "    sns.heatmap(corr_matrix, annot=True, cmap='coolwarm', center=0, \n",
    "                square=True, linewidths=1, cbar_kws={\"shrink\": 0.8})\n",
    "    plt.title('Feature Correlation Matrix')\n",
    "    plt.tight_layout()\n",
    "    plt.show()"
   ]
  },
  {
   "cell_type": "markdown",
   "metadata": {},
   "source": [
    "## 7. Conclusions\n",
    "\n",
    "Summary of findings:\n",
    "- Spread characteristics\n",
    "- Liquidity patterns\n",
    "- Data quality assessment\n",
    "- Next steps for feature engineering"
   ]
  }
 ],
 "metadata": {
  "kernelspec": {
   "display_name": "Python 3",
   "language": "python",
   "name": "python3"
  },
  "language_info": {
   "codemirror_mode": {
    "name": "ipython",
    "version": 3
   },
   "file_extension": ".py",
   "mimetype": "text/x-python",
   "name": "python",
   "nbconvert_exporter": "python",
   "pygments_lexer": "ipython3",
   "version": "3.9.0"
  }
 },
 "nbformat": 4,
 "nbformat_minor": 4
}
