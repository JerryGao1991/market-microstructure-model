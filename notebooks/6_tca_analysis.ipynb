{
 "cells": [
  {
   "cell_type": "markdown",
   "metadata": {},
   "source": [
    "# Transaction Cost Analysis (TCA)\n",
    "## Strategy Capacity and Cost Decomposition\n",
    "\n",
    "This notebook analyzes:\n",
    "- Implementation shortfall decomposition\n",
    "- Slippage analysis\n",
    "- Impact cost vs opportunity cost\n",
    "- Strategy capacity curves\n",
    "- Scalability assessment"
   ]
  },
  {
   "cell_type": "code",
   "execution_count": null,
   "metadata": {},
   "outputs": [],
   "source": [
    "import sys\n",
    "sys.path.append('..')\n",
    "\n",
    "import pandas as pd\n",
    "import numpy as np\n",
    "import matplotlib.pyplot as plt\n",
    "import seaborn as sns\n",
    "\n",
    "from src.config import *\n",
    "from src.seven_evaluation_metrics import PnLCalculator, TCAAnalyzer, CapacityAnalyzer\n",
    "from utils.plotting_utils import plot_capacity_curve, plot_pnl_attribution\n",
    "from utils.metrics_utils import calculate_tca_metrics, calculate_implementation_shortfall\n",
    "\n",
    "%matplotlib inline\n",
    "plt.style.use('seaborn-v0_8-darkgrid')"
   ]
  },
  {
   "cell_type": "markdown",
   "metadata": {},
   "source": [
    "## 1. Load Trade Execution Data"
   ]
  },
  {
   "cell_type": "code",
   "execution_count": null,
   "metadata": {},
   "outputs": [],
   "source": [
    "# Generate synthetic trade data for demonstration\n",
    "n_trades = 200\n",
    "\n",
    "trades_df = pd.DataFrame({\n",
    "    'timestamp': pd.date_range('2025-01-01', periods=n_trades, freq='min'),\n",
    "    'arrival_price': 100 + np.random.randn(n_trades) * 0.5,\n",
    "    'execution_price': 100 + np.random.randn(n_trades) * 0.5,\n",
    "    'quantity': np.random.randint(10, 100, n_trades),\n",
    "    'side': np.random.choice(['B', 'S'], n_trades),\n",
    "    'fee': np.random.rand(n_trades) * 2 + 1\n",
    "})\n",
    "\n",
    "print(f\"Loaded {len(trades_df)} trades\")\n",
    "print(trades_df.head())"
   ]
  },
  {
   "cell_type": "markdown",
   "metadata": {},
   "source": [
    "## 2. Calculate TCA Metrics"
   ]
  },
  {
   "cell_type": "code",
   "execution_count": null,
   "metadata": {},
   "outputs": [],
   "source": [
    "# Calculate slippage and costs\n",
    "tca_df = calculate_tca_metrics(\n",
    "    trades_df,\n",
    "    arrival_price_col='arrival_price',\n",
    "    execution_price_col='execution_price',\n",
    "    side_col='side',\n",
    "    quantity_col='quantity',\n",
    "    fee_col='fee'\n",
    ")\n",
    "\n",
    "print(\"TCA Summary Statistics:\")\n",
    "print(tca_df[['slippage_bps', 'total_cost_bps']].describe())"
   ]
  },
  {
   "cell_type": "markdown",
   "metadata": {},
   "source": [
    "## 3. Slippage Distribution"
   ]
  },
  {
   "cell_type": "code",
   "execution_count": null,
   "metadata": {},
   "outputs": [],
   "source": [
    "fig, (ax1, ax2) = plt.subplots(1, 2, figsize=(14, 5))\n",
    "\n",
    "# Slippage histogram\n",
    "ax1.hist(tca_df['slippage_bps'], bins=50, alpha=0.7, edgecolor='black')\n",
    "ax1.axvline(tca_df['slippage_bps'].mean(), color='red', linestyle='--',\n",
    "            label=f\"Mean: {tca_df['slippage_bps'].mean():.2f} bps\")\n",
    "ax1.axvline(tca_df['slippage_bps'].median(), color='green', linestyle='--',\n",
    "            label=f\"Median: {tca_df['slippage_bps'].median():.2f} bps\")\n",
    "ax1.set_xlabel('Slippage (bps)')\n",
    "ax1.set_ylabel('Frequency')\n",
    "ax1.set_title('Slippage Distribution')\n",
    "ax1.legend()\n",
    "ax1.grid(True, alpha=0.3)\n",
    "\n",
    "# Total cost histogram\n",
    "ax2.hist(tca_df['total_cost_bps'], bins=50, alpha=0.7, edgecolor='black', color='orange')\n",
    "ax2.axvline(tca_df['total_cost_bps'].mean(), color='red', linestyle='--',\n",
    "            label=f\"Mean: {tca_df['total_cost_bps'].mean():.2f} bps\")\n",
    "ax2.set_xlabel('Total Cost (bps)')\n",
    "ax2.set_ylabel('Frequency')\n",
    "ax2.set_title('Total Cost Distribution')\n",
    "ax2.legend()\n",
    "ax2.grid(True, alpha=0.3)\n",
    "\n",
    "plt.tight_layout()\n",
    "plt.show()"
   ]
  },
  {
   "cell_type": "markdown",
   "metadata": {},
   "source": [
    "## 4. Implementation Shortfall Decomposition"
   ]
  },
  {
   "cell_type": "code",
   "execution_count": null,
   "metadata": {},
   "outputs": [],
   "source": [
    "# Calculate IS components\n",
    "decision_price = 100.0\n",
    "total_quantity = trades_df['quantity'].sum()\n",
    "\n",
    "is_result = calculate_implementation_shortfall(\n",
    "    trades_df,\n",
    "    decision_price,\n",
    "    'B',  # Buy side\n",
    "    total_quantity\n",
    ")\n",
    "\n",
    "print(\"Implementation Shortfall Components:\")\n",
    "for key, value in is_result.items():\n",
    "    print(f\"{key}: {value:.2f}\")"
   ]
  },
  {
   "cell_type": "code",
   "execution_count": null,
   "metadata": {},
   "outputs": [],
   "source": [
    "# Plot IS decomposition\n",
    "is_components = {\n",
    "    'Impact Cost': is_result['impact_cost'],\n",
    "    'Fees': is_result['fees'],\n",
    "    'Opportunity Cost': is_result['opportunity_cost']\n",
    "}\n",
    "\n",
    "fig = plot_pnl_attribution(\n",
    "    is_components,\n",
    "    title='Implementation Shortfall Decomposition'\n",
    ")\n",
    "plt.show()"
   ]
  },
  {
   "cell_type": "markdown",
   "metadata": {},
   "source": [
    "## 5. Slippage Over Time"
   ]
  },
  {
   "cell_type": "code",
   "execution_count": null,
   "metadata": {},
   "outputs": [],
   "source": [
    "# Plot slippage time series\n",
    "fig, ax = plt.subplots(figsize=(14, 6))\n",
    "\n",
    "ax.plot(tca_df['timestamp'], tca_df['slippage_bps'], alpha=0.6, linewidth=0.5)\n",
    "ax.plot(tca_df['timestamp'], tca_df['slippage_bps'].rolling(20).mean(),\n",
    "        color='red', linewidth=2, label='20-period MA')\n",
    "ax.axhline(0, color='black', linestyle='--', alpha=0.5)\n",
    "ax.set_xlabel('Time')\n",
    "ax.set_ylabel('Slippage (bps)')\n",
    "ax.set_title('Slippage Over Time')\n",
    "ax.legend()\n",
    "ax.grid(True, alpha=0.3)\n",
    "\n",
    "plt.tight_layout()\n",
    "plt.show()"
   ]
  },
  {
   "cell_type": "markdown",
   "metadata": {},
   "source": [
    "## 6. Strategy Capacity Analysis"
   ]
  },
  {
   "cell_type": "code",
   "execution_count": null,
   "metadata": {},
   "outputs": [],
   "source": [
    "# Simulate capacity at different scale levels\n",
    "adv_percentages = np.array([0.1, 0.5, 1.0, 2.0, 5.0])\n",
    "\n",
    "# Simulate degradation with scale\n",
    "pnl_per_share = np.array([0.05, 0.048, 0.042, 0.035, 0.020])\n",
    "\n",
    "capacity_df = pd.DataFrame({\n",
    "    'adv_pct': adv_percentages,\n",
    "    'pnl_per_share': pnl_per_share,\n",
    "    'slippage_bps': adv_percentages * 0.5  # Slippage increases with size\n",
    "})\n",
    "\n",
    "print(\"Capacity Analysis:\")\n",
    "print(capacity_df)"
   ]
  },
  {
   "cell_type": "code",
   "execution_count": null,
   "metadata": {},
   "outputs": [],
   "source": [
    "# Plot capacity curve\n",
    "fig = plot_capacity_curve(\n",
    "    capacity_df['adv_pct'].values,\n",
    "    capacity_df['pnl_per_share'].values,\n",
    "    title='Strategy Capacity Curve'\n",
    ")\n",
    "plt.show()"
   ]
  },
  {
   "cell_type": "markdown",
   "metadata": {},
   "source": [
    "## 7. Cost by Trade Size"
   ]
  },
  {
   "cell_type": "code",
   "execution_count": null,
   "metadata": {},
   "outputs": [],
   "source": [
    "# Analyze cost vs trade size\n",
    "fig, ax = plt.subplots(figsize=(10, 6))\n",
    "\n",
    "ax.scatter(tca_df['quantity'], tca_df['total_cost_bps'], alpha=0.5)\n",
    "ax.set_xlabel('Trade Size')\n",
    "ax.set_ylabel('Total Cost (bps)')\n",
    "ax.set_title('Transaction Cost vs Trade Size')\n",
    "ax.grid(True, alpha=0.3)\n",
    "\n",
    "# Add trend line\n",
    "z = np.polyfit(tca_df['quantity'], tca_df['total_cost_bps'], 1)\n",
    "p = np.poly1d(z)\n",
    "ax.plot(sorted(tca_df['quantity']), p(sorted(tca_df['quantity'])),\n",
    "        'r--', linewidth=2, label='Trend')\n",
    "ax.legend()\n",
    "\n",
    "plt.tight_layout()\n",
    "plt.show()"
   ]
  },
  {
   "cell_type": "markdown",
   "metadata": {},
   "source": [
    "## 8. Summary and Recommendations\n",
    "\n",
    "Key findings:\n",
    "- Average slippage: X bps\n",
    "- Average total cost: Y bps\n",
    "- Strategy remains profitable up to Z% of ADV\n",
    "- Recommended maximum position size: ...\n",
    "- Cost optimization opportunities: ..."
   ]
  }
 ],
 "metadata": {
  "kernelspec": {
   "display_name": "Python 3",
   "language": "python",
   "name": "python3"
  },
  "language_info": {
   "codemirror_mode": {
    "name": "ipython",
    "version": 3
   },
   "file_extension": ".py",
   "mimetype": "text/x-python",
   "name": "python",
   "nbconvert_exporter": "python",
   "pygments_lexer": "ipython3",
   "version": "3.9.0"
  }
 },
 "nbformat": 4,
 "nbformat_minor": 4
}
